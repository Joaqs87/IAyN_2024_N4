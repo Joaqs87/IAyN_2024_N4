{
  "nbformat": 4,
  "nbformat_minor": 0,
  "metadata": {
    "colab": {
      "provenance": []
    },
    "kernelspec": {
      "name": "python3",
      "display_name": "Python 3"
    },
    "language_info": {
      "name": "python"
    }
  },
  "cells": [
    {
      "cell_type": "code",
      "execution_count": 1,
      "metadata": {
        "colab": {
          "base_uri": "https://localhost:8080/"
        },
        "id": "EShUyrh0gJQJ",
        "outputId": "f5d6680c-70fd-4dda-abd0-5720ad956cb6"
      },
      "outputs": [
        {
          "output_type": "stream",
          "name": "stdout",
          "text": [
            "Dime tu nombre: Pedro\n",
            "No te puedo saludar\n"
          ]
        }
      ],
      "source": [
        "\"Joaquin Alejandro Diaz Ibarra, 2077836, Martes N4\"\n",
        "Nom = input(\"Dime tu nombre: \")\n",
        "Pro = [\"Ana\",\"Juan\",\"Pedro\"]\n",
        "if Nom in Pro:\n",
        "    print(\"No te puedo saludar\")\n",
        "else:\n",
        "    print(f\"Hola, {Nom}\")\n"
      ]
    },
    {
      "cell_type": "code",
      "source": [
        "N = int(input(\"Dime cuantos elementos quieres meter:  \"))\n",
        "Lista = []\n",
        "for X in range(N):\n",
        "\n",
        "    print(f\"Dime el elemento {X + 1}\")\n",
        "    Y = input()\n",
        "    Lista.append(Y)\n",
        "Lista_inv = Lista[::-1]\n",
        "\n",
        "print(Lista_inv)\n"
      ],
      "metadata": {
        "colab": {
          "base_uri": "https://localhost:8080/"
        },
        "id": "bzhzOOzR7OJL",
        "outputId": "f6ef4f1e-fc71-44c6-f945-b9e624bbc462"
      },
      "execution_count": 1,
      "outputs": [
        {
          "output_type": "stream",
          "name": "stdout",
          "text": [
            "Dime cuantos elementos quieres meter:  7\n",
            "Dime el elemento 1\n",
            "1\n",
            "Dime el elemento 2\n",
            "2\n",
            "Dime el elemento 3\n",
            "3\n",
            "Dime el elemento 4\n",
            "4\n",
            "Dime el elemento 5\n",
            "5\n",
            "Dime el elemento 6\n",
            "9\n",
            "Dime el elemento 7\n",
            "10\n",
            "['10', '9', '5', '4', '3', '2', '1']\n"
          ]
        }
      ]
    },
    {
      "cell_type": "code",
      "source": [
        "N1 = 0\n",
        "N2 = 1\n",
        "X = input(\"Cuantas numeros de la serie de fibonacci desea ver?  \")\n",
        "Y = int(X)\n",
        "Y = Y - (Y/2)\n",
        "L = []\n",
        "while Y > 0:\n",
        "\n",
        "    L.append(N1)\n",
        "    L.append(N2)\n",
        "    N1 = N1 + N2\n",
        "    N2 = N1 + N2\n",
        "\n",
        "\n",
        "    Y -= 1\n",
        "print(L)"
      ],
      "metadata": {
        "colab": {
          "base_uri": "https://localhost:8080/"
        },
        "id": "55P9v8ds9Bx9",
        "outputId": "e2660963-c1b9-4271-d736-eea9d87dbb63"
      },
      "execution_count": 2,
      "outputs": [
        {
          "output_type": "stream",
          "name": "stdout",
          "text": [
            "Cuantas numeros de la serie de fibonacci desea ver?  8\n",
            "[0, 1, 1, 2, 3, 5, 8, 13]\n"
          ]
        }
      ]
    },
    {
      "cell_type": "code",
      "source": [
        "from random import *\n",
        "S = randint(1,100)\n",
        "\n",
        "print(\"Dime un numero entre 0 y 100\")\n",
        "\n",
        "inten = 1\n",
        "while inten > 0:\n",
        "    N = int(input())\n",
        "\n",
        "    if N > 100 and N < 0:\n",
        "        print(\"Esos numeros no coinciden\")\n",
        "    elif N > S:\n",
        "        print(\"Mas bajo\")\n",
        "    elif N < S:\n",
        "        print(\"Mas alto\")\n",
        "    elif N == S:\n",
        "        print(\"Encontraste el numero\")\n",
        "        break\n"
      ],
      "metadata": {
        "colab": {
          "base_uri": "https://localhost:8080/"
        },
        "id": "LehnqMet9N1c",
        "outputId": "a5f3a39c-0d56-418a-cdd3-2acf59da24a5"
      },
      "execution_count": 3,
      "outputs": [
        {
          "output_type": "stream",
          "name": "stdout",
          "text": [
            "Dime un numero entre 0 y 100\n",
            "50\n",
            "Mas bajo\n",
            "25\n",
            "Mas alto\n",
            "35\n",
            "Mas alto\n",
            "45\n",
            "Mas bajo\n",
            "40\n",
            "Mas bajo\n",
            "38\n",
            "Mas bajo\n",
            "36\n",
            "Encontraste el numero\n"
          ]
        }
      ]
    },
    {
      "cell_type": "code",
      "source": [
        "X = int(input(\"Dime hasta que cantidad de numeros primos que quieres ver: \"))\n",
        "\n",
        "L = []\n",
        "for Y in range(2,X+1):\n",
        "    P = True\n",
        "    for W in range(2,Y):\n",
        "        if Y % W == 0:\n",
        "            P = False\n",
        "            break\n",
        "\n",
        "    if P:\n",
        "        L.append(Y)\n",
        "        print(Y)\n",
        "\n",
        "P = 1"
      ],
      "metadata": {
        "colab": {
          "base_uri": "https://localhost:8080/"
        },
        "id": "fxuaFXz19lay",
        "outputId": "546e2183-65df-4cab-d430-b8f09a0a823c"
      },
      "execution_count": 5,
      "outputs": [
        {
          "output_type": "stream",
          "name": "stdout",
          "text": [
            "Dime hasta que cantidad de numeros primos que quieres ver: 47\n",
            "2\n",
            "3\n",
            "5\n",
            "7\n",
            "11\n",
            "13\n",
            "17\n",
            "19\n",
            "23\n",
            "29\n",
            "31\n",
            "37\n",
            "41\n",
            "43\n",
            "47\n"
          ]
        }
      ]
    },
    {
      "cell_type": "code",
      "source": [
        "X1 = int(input(\"Escribe el Numero 1: \"))\n",
        "X2 = int(input(\"Escribe el Numero 2: \"))\n",
        "def suma(N1,N2):\n",
        "    return N1 + N2\n",
        "\n",
        "def resta(N1,N2):\n",
        "    return N1 - N2\n",
        "\n",
        "def multiplicacion(N1,N2):\n",
        "    return N1 * N2\n",
        "\n",
        "def division(N1,N2):\n",
        "    return N1 / N2\n",
        "\n",
        "X = suma(X1,X2)\n",
        "Y = resta(X1,X2)\n",
        "W = multiplicacion(X1,X2)\n",
        "Z = division(X1,X2)\n",
        "\n",
        "print(f\"La suma de {X1} y  {X2} es {X}\")\n",
        "print(f\"La resta de {X1} y  {X2} es {Y}\")\n",
        "print(f\"La multiplicacion de {X1} y  {X2} es {W}\")\n",
        "print(f\"La division de {X1} y  {X2} es {Z}\")"
      ],
      "metadata": {
        "colab": {
          "base_uri": "https://localhost:8080/"
        },
        "id": "QIqZgRLT9yCV",
        "outputId": "e1aee690-aa90-4eb1-b2b7-4d8664a13761"
      },
      "execution_count": 6,
      "outputs": [
        {
          "output_type": "stream",
          "name": "stdout",
          "text": [
            "Escribe el Numero 1: 9\n",
            "Escribe el Numero 2: 3\n",
            "La suma de 9 y  3 es 12\n",
            "La resta de 9 y  3 es 6\n",
            "La multiplicacion de 9 y  3 es 27\n",
            "La division de 9 y  3 es 3.0\n"
          ]
        }
      ]
    }
  ]
}